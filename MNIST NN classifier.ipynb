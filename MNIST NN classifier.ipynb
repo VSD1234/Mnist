{
 "cells": [
  {
   "cell_type": "code",
   "execution_count": 191,
   "id": "a635cccd",
   "metadata": {},
   "outputs": [],
   "source": [
    "#importing dependencies\n",
    "import numpy as np\n",
    "import pandas as pd\n",
    "import matplotlib.pyplot as plt"
   ]
  },
  {
   "cell_type": "code",
   "execution_count": 192,
   "id": "4136fcb4",
   "metadata": {},
   "outputs": [],
   "source": [
    "#importing the dataset and seperating x and y training and test values\n",
    "df1 = pd.read_csv('mnist_train.csv')\n",
    "n_samples = int(60000)\n",
    "Y_train = np.array(df1.iloc[:n_samples,0]).T\n",
    "X_train = np.array(df1.iloc[:n_samples,1:].T/255)\n",
    "df2 = pd.read_csv('mnist_test.csv')\n",
    "Y_test = np.array(df2.iloc[:10000,0]).T\n",
    "X_test = np.array(df2.iloc[:10000,1:].T/255)"
   ]
  },
  {
   "cell_type": "code",
   "execution_count": 193,
   "id": "f0369e07",
   "metadata": {},
   "outputs": [
    {
     "name": "stdout",
     "output_type": "stream",
     "text": [
      "X_train:  (784, 60000)\n",
      "Y_train:  (100,)\n",
      "5\n"
     ]
    }
   ],
   "source": [
    "# Check the shapes of training sets\n",
    "print(\"X_train: \",X_train.shape)\n",
    "print(\"Y_train: \",Y_test.shape)\n",
    "print(Y_train[0])"
   ]
  },
  {
   "cell_type": "code",
   "execution_count": 194,
   "id": "0ef83834",
   "metadata": {},
   "outputs": [
    {
     "name": "stdout",
     "output_type": "stream",
     "text": [
      "[5 0 4 1 9]\n",
      "[[0. 0. 0. 0. 0. 1. 0. 0. 0. 0.]\n",
      " [1. 0. 0. 0. 0. 0. 0. 0. 0. 0.]\n",
      " [0. 0. 0. 0. 1. 0. 0. 0. 0. 0.]\n",
      " [0. 1. 0. 0. 0. 0. 0. 0. 0. 0.]\n",
      " [0. 0. 0. 0. 0. 0. 0. 0. 0. 1.]]\n"
     ]
    }
   ],
   "source": [
    "## We want answer as a probability so we will have to convert the input labels 'Y'\n",
    "## into probabilities i.e. '1' for that digit and '0' for the rest.\n",
    "def transform(y):\n",
    "    temp = np.zeros((y.size,10))\n",
    "    temp[np.arange(y.size),y] = 1\n",
    "    temp = temp.T\n",
    "    return temp\n",
    "Y_test_prob = transform(Y_test)\n",
    "Y_train_prob = transform(Y_train)\n",
    "print(Y_train[:5])\n",
    "print(Y_train_prob[:,:5].T)"
   ]
  },
  {
   "cell_type": "code",
   "execution_count": 215,
   "id": "2c9cc7ec",
   "metadata": {},
   "outputs": [],
   "source": [
    "def initialize_parameters():\n",
    "    W1 = np.random.randn(256,784)\n",
    "    W2 = np.random.randn(10,256)\n",
    "    b1 = np.zeros((256,1))\n",
    "    b2 = np.zeros((10,1))\n",
    "    return W1,W2,b1,b2"
   ]
  },
  {
   "cell_type": "code",
   "execution_count": 196,
   "id": "bdb1107c",
   "metadata": {},
   "outputs": [],
   "source": [
    "# Define all the activation functions which return activation values.\n",
    "def sigmoid(x):\n",
    "    return 1/(1 + np.exp(-x))\n",
    "\n",
    "def relu(x):\n",
    "    return np.maximum(0,x)\n",
    "#     return np.maximum(x*1e-3,x),x\n",
    "def tanh(x):\n",
    "    return (np.exp(x)-np.exp(-x))/(np.exp(x) + np.exp(-x))\n",
    "\n",
    "def softmax(x):\n",
    "    return np.exp(x)/(np.sum(np.exp(x),axis = 0, keepdims = True))\n",
    "\n",
    "def probability(x):\n",
    "    return x/(np.sum(x,axis = 1,keepdims = True))"
   ]
  },
  {
   "cell_type": "code",
   "execution_count": 209,
   "id": "99deca61",
   "metadata": {},
   "outputs": [],
   "source": [
    "def forward_prop(X,W1,b1,W2,b2):\n",
    "    Z1 = np.dot(W1,X) + b1 #(128,784)*(784, 10000) = (128,10000)\n",
    "    Z1 = Z1/100\n",
    "    A1 = relu(Z1) #(128,10000)\n",
    "    Z2 = np.dot(W2,A1) + b2 #(10,128)*(128,10000) = (10,10000)\n",
    "#     A2 = sigmoid(Z2) #(10,10000)\n",
    "    A2 = softmax(Z2)\n",
    "    return A1,A2,Z1"
   ]
  },
  {
   "cell_type": "code",
   "execution_count": 210,
   "id": "df7671b8",
   "metadata": {},
   "outputs": [],
   "source": [
    "def backward_prop(A2,Y,A1,W2,X,Z1):\n",
    "    m = X.shape[1]\n",
    "    dZ2 = A2 - Y\n",
    "    dW2 = np.dot(dZ2,A1.T)/m #(10,128)\n",
    "    db2 = np.sum(dZ2,axis = 1,keepdims = True)/m #(10,1)\n",
    "    g_z = Z1 > 0    #for ReLU activation function\n",
    "#     g_z = Z1*(1-Z1)\n",
    "    dZ1 = np.multiply(np.dot(W2.T,dZ2),g_z)\n",
    "    dW1 = np.dot(dZ1,X.T)/m # (128,784)\n",
    "    db1 = np.sum(dZ1,1,keepdims = True)/m #(128,1)\n",
    "    return dW1,dW2,db1,db2,dZ2,dZ1,g_z"
   ]
  },
  {
   "cell_type": "code",
   "execution_count": 211,
   "id": "f9205694",
   "metadata": {},
   "outputs": [],
   "source": [
    "def compute_accuracy(AL,Y):\n",
    "    count = int(0)\n",
    "    m = Y.shape[0]\n",
    "    for i in range(m):\n",
    "        if np.argmax(AL[:,i]) == Y[i]:\n",
    "            count +=1\n",
    "    # -np.average(y*np.log(p) + (1-y)*np.log(1-p))\n",
    "#     np.squeeze(cost) ## Transforms single dimensional value matrix to simple values\n",
    "    return count/m"
   ]
  },
  {
   "cell_type": "code",
   "execution_count": 212,
   "id": "08776159",
   "metadata": {},
   "outputs": [],
   "source": [
    "def compute_cost(AL,Y):\n",
    "    m = Y.shape[0]\n",
    "    cost = -1*np.sum(np.multiply(np.log(AL),Y) + np.multiply(np.log(1-AL),1-Y))/m\n",
    "    # -np.average(y*np.log(p) + (1-y)*np.log(1-p))\n",
    "    np.squeeze(cost) ## Remove single dimensional values\n",
    "    return cost"
   ]
  },
  {
   "cell_type": "code",
   "execution_count": 213,
   "id": "33128a48",
   "metadata": {},
   "outputs": [],
   "source": [
    "def predict(X,W1,b1,W2,b2):\n",
    "    a,prob,c = forward_prop(X,W1,b1,W2,b2)\n",
    "    return np.argmax(prob,0)  ## If we pass one example only then it will give error"
   ]
  },
  {
   "cell_type": "code",
   "execution_count": 214,
   "id": "29a1f720",
   "metadata": {
    "scrolled": true
   },
   "outputs": [
    {
     "name": "stdout",
     "output_type": "stream",
     "text": [
      "epoch: 0 accuracy: 0.09871666666666666\n",
      "epoch: 50 accuracy: 0.7777666666666667\n",
      "epoch: 100 accuracy: 0.8145\n",
      "epoch: 150 accuracy: 0.8313166666666667\n",
      "epoch: 200 accuracy: 0.8422\n",
      "epoch: 250 accuracy: 0.85005\n",
      "epoch: 300 accuracy: 0.85655\n",
      "epoch: 350 accuracy: 0.8612\n",
      "epoch: 400 accuracy: 0.8653833333333333\n",
      "epoch: 450 accuracy: 0.8687333333333334\n",
      "done\n"
     ]
    }
   ],
   "source": [
    "epochs = int(200)\n",
    "lr = float(0.1)\n",
    "W1,W2,b1,b2 = initialize_parameters()\n",
    "accuracy = int(0)\n",
    "for i in range(epochs):\n",
    "    A1,A2,Z1 = forward_prop(X_train,W1,b1,W2,b2)\n",
    "    dW1,dW2,db1,db2,dZ2,dZ1,g_z = backward_prop(A2,Y_train_prob,A1,W2,X_train,Z1)\n",
    "    W1 = W1 - lr*dW1\n",
    "    W2 = W2 - lr*dW2\n",
    "    b1 = b1 - lr*db1\n",
    "    b2 = b2 - lr*db2\n",
    "    if i%(epochs/10) == 0:\n",
    "        print(f\"epoch: {i} accuracy: {compute_accuracy(A2,Y_train)}\")\n",
    "#         print()\n",
    "#         print(db2)  Cost:{compute_cost(A2,Y_train)}\n",
    "#         print(f\"epoch: {i+1} g_z: {g_z} dW1: {dW1} dZ1:{dZ1} \") #b1: {b1} b2: {b2} dW2: {dW2} db1:{db1} db2: {db2} W1: {W1} W2: {W2}\n",
    "#         print(f\"Z1: {Z1} A1: {A1} A2:{A2}\")\n",
    "    \n",
    "print(\"done\")    "
   ]
  },
  {
   "cell_type": "code",
   "execution_count": 219,
   "id": "4a969545",
   "metadata": {},
   "outputs": [
    {
     "name": "stdout",
     "output_type": "stream",
     "text": [
      "0.89\n"
     ]
    }
   ],
   "source": [
    "# Calculate accuracy on test set\n",
    "_,A_test,_ = forward_prop(X_test,W1,b1,W2,b2)\n",
    "print(compute_accuracy(A_test,Y_test))"
   ]
  },
  {
   "cell_type": "code",
   "execution_count": 217,
   "id": "75c48d7e",
   "metadata": {
    "scrolled": false
   },
   "outputs": [
    {
     "data": {
      "text/plain": [
       "array([7, 2, 1, 0, 4, 1, 4, 9, 6, 9, 0, 6, 9, 0, 1], dtype=int64)"
      ]
     },
     "execution_count": 217,
     "metadata": {},
     "output_type": "execute_result"
    }
   ],
   "source": [
    "ans = predict(X_test[:,:15],W1,b1,W2,b2)\n",
    "# np.argmax(ans)\n",
    "ans\n",
    "\n",
    "# print(A2[:,:5])\n",
    "# np.argmax(A2,0)"
   ]
  },
  {
   "cell_type": "code",
   "execution_count": 204,
   "id": "7c1719f1",
   "metadata": {},
   "outputs": [
    {
     "name": "stdout",
     "output_type": "stream",
     "text": [
      "[ 4  8 12 16]\n"
     ]
    }
   ],
   "source": [
    "Tm = np.array([[1,2,3,4],\n",
    "              [1,2,3,4],\n",
    "              [1,2,3,4],\n",
    "              [1,2,3,4]])\n",
    "Ts = np.array([3,0,2,3])\n",
    "print(np.sum(Tm,0))"
   ]
  },
  {
   "cell_type": "code",
   "execution_count": 218,
   "id": "fc4a679d",
   "metadata": {
    "scrolled": false
   },
   "outputs": [
    {
     "name": "stdout",
     "output_type": "stream",
     "text": [
      "[7 2 1 0 4 1 4 9 5 9 0 6 9 0 1]\n"
     ]
    },
    {
     "data": {
      "text/plain": [
       "<matplotlib.image.AxesImage at 0x1f10018f7c0>"
      ]
     },
     "execution_count": 218,
     "metadata": {},
     "output_type": "execute_result"
    },
    {
     "data": {
      "image/png": "[encoded data removed]",
      "text/plain": [
       "<Figure size 640x480 with 1 Axes>"
      ]
     },
     "metadata": {},
     "output_type": "display_data"
    }
   ],
   "source": [
    "print(Y_test[:15])\n",
    "plt.imshow(X_test[:,15].reshape(28,28))"
   ]
  },
  {
   "cell_type": "code",
   "execution_count": 206,
   "id": "49c1f763",
   "metadata": {},
   "outputs": [
    {
     "data": {
      "text/plain": [
       "7"
      ]
     },
     "execution_count": 206,
     "metadata": {},
     "output_type": "execute_result"
    }
   ],
   "source": [
    "np.argmax(softmax(Y_test_prob[:,0]))"
   ]
  },
  {
   "cell_type": "code",
   "execution_count": null,
   "id": "dcafb6fd",
   "metadata": {},
   "outputs": [],
   "source": []
  }
 ],
 "metadata": {
  "kernelspec": {
   "display_name": "Python 3 (ipykernel)",
   "language": "python",
   "name": "python3"
  },
  "language_info": {
   "codemirror_mode": {
    "name": "ipython",
    "version": 3
   },
   "file_extension": ".py",
   "mimetype": "text/x-python",
   "name": "python",
   "nbconvert_exporter": "python",
   "pygments_lexer": "ipython3",
   "version": "3.10.9"
  }
 },
 "nbformat": 4,
 "nbformat_minor": 5
}
